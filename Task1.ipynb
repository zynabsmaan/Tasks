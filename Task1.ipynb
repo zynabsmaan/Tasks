{
 "cells": [
  {
   "cell_type": "code",
   "execution_count": 1,
   "metadata": {},
   "outputs": [
    {
     "ename": "SyntaxError",
     "evalue": "invalid syntax (<ipython-input-1-c313e93c54de>, line 1)",
     "output_type": "error",
     "traceback": [
      "\u001b[1;36m  File \u001b[1;32m\"<ipython-input-1-c313e93c54de>\"\u001b[1;36m, line \u001b[1;32m1\u001b[0m\n\u001b[1;33m    9. Using OpenCV 2, read a single binary image and display it to the user. The script must ask the user (you) for the path dynamically.  [Practical] 10. Using OpenCV 2, read a single gray image, convert it to a binary image and display both of the images to the user in a single window. The script must ask the user (you) for the path dynamically.  [Practical] 11. Using OpenCV 2, read a single colored image, convert it to a gray image and display both of the images to the user in two different windows. The script must ask the user (you) for the path dynamically.  [Practical] 12. Build a documented Python class to perform tasks (9, 10, and 11) dynamically. [Practical]\u001b[0m\n\u001b[1;37m           ^\u001b[0m\n\u001b[1;31mSyntaxError\u001b[0m\u001b[1;31m:\u001b[0m invalid syntax\n"
     ]
    }
   ],
   "source": [
    "  "
   ]
  },
  {
   "cell_type": "markdown",
   "metadata": {},
   "source": [
    "8- Install OpenCV 2 on Windows and Linux operating systems. [Practical]'"
   ]
  },
  {
   "cell_type": "markdown",
   "metadata": {},
   "source": [
    "ans : done \n"
   ]
  },
  {
   "cell_type": "markdown",
   "metadata": {},
   "source": [
    "9- Using OpenCV 2, read a single binary image and display it to the user. The script must ask the user (you) for the path dynamically"
   ]
  },
  {
   "cell_type": "code",
   "execution_count": 4,
   "metadata": {},
   "outputs": [
    {
     "name": "stdout",
     "output_type": "stream",
     "text": [
      "binary.jpg\n"
     ]
    }
   ],
   "source": [
    "import cv2\n",
    "import os \n",
    "\n",
    "image_name = input()\n",
    "binary_img = cv2.imread(image_name)\n",
    "cv2.imshow('binary image' , binary_img)\n",
    "cv2.waitKey(0)\n",
    "cv2.destroyAllWindows()"
   ]
  },
  {
   "cell_type": "markdown",
   "metadata": {},
   "source": [
    "10- Using OpenCV 2, read a single gray image, convert it to a binary image and display both of the images to the user in a single window. The script must ask the user (you) for the path dynamically.  [Practical]"
   ]
  },
  {
   "cell_type": "code",
   "execution_count": 12,
   "metadata": {},
   "outputs": [],
   "source": [
    "image_name= input()\n",
    "gray_img = cv2.imread(image_name)\n",
    "ret,binary_gray = cv2.threshold(gray_img,127,255,cv2.THRESH_BINARY)\n",
    "cv2.imshow('gray' , gray_img)\n",
    "cv2.imshow('binary' , binary_gray)\n",
    "cv2.waitKey(0)\n",
    "cv2.destroyAllWindows()\n"
   ]
  },
  {
   "cell_type": "markdown",
   "metadata": {},
   "source": [
    "11. Using OpenCV 2, read a single colored image, convert it to a gray image and display both of the images to the user in two different windows. "
   ]
  },
  {
   "cell_type": "code",
   "execution_count": 14,
   "metadata": {},
   "outputs": [
    {
     "name": "stdout",
     "output_type": "stream",
     "text": [
      "zozo.jpg\n"
     ]
    }
   ],
   "source": [
    "image_name = input()\n",
    "color_image = cv2.imread(image_name)\n",
    "gray_image = cv2.imread(image_name , 0)\n",
    "cv2.imshow('color image' , color_image)\n",
    "cv2.imshow('gray image' , gray_image)\n",
    "cv2.waitKey(0)\n",
    "cv2.destroyAllWindows()\n"
   ]
  },
  {
   "cell_type": "markdown",
   "metadata": {},
   "source": [
    "The script must ask the user (you) for the path dynamically.  [Practical] 12. Build a documented Python class to perform tasks (9, 10, and 11) dynamically. [Practical]"
   ]
  },
  {
   "cell_type": "code",
   "execution_count": 15,
   "metadata": {
    "collapsed": true
   },
   "outputs": [],
   "source": [
    "class edit_image() :    \n",
    "        \n",
    "    def read_binary(image_path) : \n",
    "        img = cv2.imread(image_path)\n",
    "        cv2.imshow('binary image' , img)\n",
    "        cv2.waitKey(0)\n",
    "        cv2.destroyAllWindows()\n",
    "        \n",
    "        \n",
    "    def convert_color_to_binary(image_path):\n",
    "        gray_img = cv2.imread(image_name)\n",
    "        ret,binary_gray = cv2.threshold(gray_img,127,255,cv2.THRESH_BINARY)\n",
    "        cv2.imshow('gray' , gray_img)\n",
    "        cv2.imshow('binary' , binary_gray)\n",
    "        cv2.waitKey(0)\n",
    "        cv2.destroyAllWindows()\n",
    "        \n",
    "        \n",
    "    def convert_to_gary(image_path) :\n",
    "        color_image = cv2.imread(image_name)\n",
    "        gray_image = cv2.imread(image_name , 0)\n",
    "        cv2.imshow('color image' , color_image)\n",
    "        cv2.imshow('gray image' , gray_image)\n",
    "        cv2.waitKey(0)\n",
    "        cv2.destroyAllWindows()\n",
    "        "
   ]
  },
  {
   "cell_type": "code",
   "execution_count": null,
   "metadata": {
    "collapsed": true
   },
   "outputs": [],
   "source": [
    "obj = "
   ]
  }
 ],
 "metadata": {
  "kernelspec": {
   "display_name": "Python 3",
   "language": "python",
   "name": "python3"
  },
  "language_info": {
   "codemirror_mode": {
    "name": "ipython",
    "version": 3
   },
   "file_extension": ".py",
   "mimetype": "text/x-python",
   "name": "python",
   "nbconvert_exporter": "python",
   "pygments_lexer": "ipython3",
   "version": "3.5.4"
  }
 },
 "nbformat": 4,
 "nbformat_minor": 2
}
