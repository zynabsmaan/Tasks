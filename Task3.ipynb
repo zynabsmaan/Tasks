{
 "cells": [
  {
   "cell_type": "markdown",
   "metadata": {
    "collapsed": true
   },
   "source": [
    "Task3"
   ]
  },
  {
   "cell_type": "code",
   "execution_count": 1,
   "metadata": {
    "collapsed": true
   },
   "outputs": [],
   "source": [
    "import cv2\n",
    "import numpy as np\n",
    "from matplotlib import pyplot as plt"
   ]
  },
  {
   "cell_type": "markdown",
   "metadata": {},
   "source": [
    "16. Using OpenCV 2, read a single colored image, apply normal histogram equalization and display the original image and the result image in the same plot. The script must ask the user (you) for the path dynamically.  [Practical]"
   ]
  },
  {
   "cell_type": "code",
   "execution_count": 59,
   "metadata": {},
   "outputs": [
    {
     "name": "stdout",
     "output_type": "stream",
     "text": [
      "Enter the path of the image: kids.png\n",
      "(260, 387, 3)\n"
     ]
    }
   ],
   "source": [
    "imgPath = input(\"Enter the path of the image: \")\n",
    "img = cv2.imread(imgPath) \n",
    "imgGray = cv2.cvtColor(img, cv2.COLOR_BGR2GRAY)\n",
    "\n",
    "equ = cv2.equalizeHist(imgGray)\n",
    "gray = cv2.cvtColor(equ, cv2.COLOR_GRAY2BGR)\n",
    "print(gray.shape)\n",
    "res = np.concatenate((img,gray), axis=1) \n",
    "\n",
    "cv2.imshow('img', res)\n",
    "cv2.waitKey()\n",
    "cv2.destroyAllWindows()"
   ]
  },
  {
   "cell_type": "markdown",
   "metadata": {},
   "source": [
    " 17. Using OpenCV 2, read a single colored image, apply CLAHE and display the original image and the result image in the same plot. The script must ask the user (you) for the path dynamically.  [Practical]"
   ]
  },
  {
   "cell_type": "code",
   "execution_count": 24,
   "metadata": {},
   "outputs": [
    {
     "name": "stdout",
     "output_type": "stream",
     "text": [
      "Enter the path of the image: kids.png\n"
     ]
    }
   ],
   "source": [
    "import numpy as np\n",
    "import cv2 \n",
    "\n",
    "imgPath = input(\"Enter the path of the image: \")\n",
    "img = cv2.imread(imgPath, 0) \n",
    "\n",
    "clahe = cv2.createCLAHE(clipLimit=1.0, tileGridSize=(4,4))\n",
    "imgClahe = clahe.apply(img) \n",
    "\n",
    "res = np.hstack((img, imgClahe))\n",
    "cv2.imshow('img', res)\n",
    "cv2.waitKey()\n",
    "cv2.destroyAllWindows()\n",
    "\n"
   ]
  },
  {
   "cell_type": "markdown",
   "metadata": {},
   "source": [
    "18. Using OpenCV 2, read a single colored image, apply gamma correction and display the original image and the result image in the same plot. The script must ask the user (you) for the path dynamically.  [Practical] "
   ]
  },
  {
   "cell_type": "markdown",
   "metadata": {},
   "source": [
    " 9. Using OpenCV 2, read a single colored image, apply gaussian blurring and display the original image and the result image in the same plot. The script must ask the user (you) for the path dynamically.  [Practical]"
   ]
  },
  {
   "cell_type": "code",
   "execution_count": 14,
   "metadata": {},
   "outputs": [
    {
     "name": "stdout",
     "output_type": "stream",
     "text": [
      "Enter the path of the image: kids.png\n"
     ]
    }
   ],
   "source": [
    "import numpy as np\n",
    "import cv2 \n",
    "\n",
    "imgPath = input(\"Enter the path of the image: \")\n",
    "img = cv2.imread(imgPath)\n",
    "\n",
    "blur = cv2.GaussianBlur(img, (5,5) , 1)\n",
    "res = np.hstack((img, blur))\n",
    "\n",
    "cv2.imshow('img', res)\n",
    "cv2.waitKey()\n",
    "cv2.destroyAllWindows()\n"
   ]
  },
  {
   "cell_type": "markdown",
   "metadata": {},
   "source": [
    "20. Using OpenCV 2, read a single colored image, apply median blurring and display the original image and the result image in the same plot. The script must ask the user (you) for the path dynamically.  [Practical]"
   ]
  },
  {
   "cell_type": "code",
   "execution_count": 16,
   "metadata": {},
   "outputs": [
    {
     "name": "stdout",
     "output_type": "stream",
     "text": [
      "Enter the path of the image: kids.png\n"
     ]
    }
   ],
   "source": [
    "import numpy as np\n",
    "import cv2 \n",
    "\n",
    "imgPath = input(\"Enter the path of the image: \")\n",
    "img = cv2.imread(imgPath)\n",
    "\n",
    "blur = cv2.medianBlur(img, 7)\n",
    "res = np.hstack((img, blur))\n",
    "\n",
    "cv2.imshow('img', res)\n",
    "cv2.waitKey()\n",
    "cv2.destroyAllWindows()\n"
   ]
  },
  {
   "cell_type": "markdown",
   "metadata": {},
   "source": [
    "21. Using OpenCV 2, read a single colored image, apply any kernel (you select one) and display the original image and the result image in the same plot. The script must ask the user (you) for the path dynamically.  [Practical]  "
   ]
  },
  {
   "cell_type": "code",
   "execution_count": 3,
   "metadata": {},
   "outputs": [
    {
     "name": "stdout",
     "output_type": "stream",
     "text": [
      "Enter the path of the image: kids.png\n"
     ]
    }
   ],
   "source": [
    "import cv2\n",
    "import numpy as np\n",
    "\n",
    "imgPath = input(\"Enter the path of the image: \")\n",
    "img = cv2.imread(imgPath)\n",
    "\n",
    "kernel = np.ones((3,3),np.float32)/9\n",
    "filter1 = cv2.filter2D(img,-5,kernel)\n",
    "\n",
    "res = np.hstack((img, filter1))\n",
    "\n",
    "cv2.imshow('img', res)\n",
    "cv2.waitKey()\n",
    "cv2.destroyAllWindows()\n"
   ]
  },
  {
   "cell_type": "markdown",
   "metadata": {},
   "source": [
    "22. Using OpenCV 2, read a single colored image, apply canny edge detection and display the original image and the result image in the same plot. The script must ask the user (you) for the path dynamically.  [Practical] "
   ]
  },
  {
   "cell_type": "code",
   "execution_count": 9,
   "metadata": {},
   "outputs": [
    {
     "name": "stdout",
     "output_type": "stream",
     "text": [
      "Enter the path of the image: kids.png\n"
     ]
    }
   ],
   "source": [
    "import cv2\n",
    "import numpy as np\n",
    "\n",
    "imgPath = input(\"Enter the path of the image: \")\n",
    "img = cv2.imread(imgPath, 0)\n",
    "\n",
    "edges = cv2.Canny(img,90,200)\n",
    "\n",
    "res = np.hstack((img, edges))\n",
    "\n",
    "cv2.imshow('img', res)\n",
    "cv2.waitKey()\n",
    "cv2.destroyAllWindows()"
   ]
  },
  {
   "cell_type": "markdown",
   "metadata": {},
   "source": [
    "# 23. Build a documented Python class to perform tasks (16 to 22) "
   ]
  },
  {
   "cell_type": "code",
   "execution_count": 30,
   "metadata": {},
   "outputs": [
    {
     "data": {
      "text/plain": [
       "'\\n==================================================================\\nClass EditImage : To perform some operations on image(you must \\n                  pass the image path to the class).\\nMethods:-\\n** normHist     : To applay noraml histogram equalization.\\n** clahe        : To apply CLAHE opearion on an image.\\n** medianBlur   : To apply median Bluring to remove noise.\\n** gaussainBlur : To make image smoother and remove gaussain noise.\\n** cannyEdge    : To detect edges of an image using Canny method.\\n** applyKernel  : To choose kernel you want and apply it to an image.\\n** gammaCor     : To control the lightness of the an image. \\n\\nAuthor : Zynab Smaan\\n=====================================================================\\n\\n'"
      ]
     },
     "execution_count": 30,
     "metadata": {},
     "output_type": "execute_result"
    }
   ],
   "source": [
    "\"\"\"\n",
    "==================================================================\n",
    "Class EditImage : To perform some operations on image(you must \n",
    "                  pass the image path to the class).\n",
    "Methods:-\n",
    "** normHist     : To applay noraml histogram equalization.\n",
    "** clahe        : To apply CLAHE opearion on an image.\n",
    "** medianBlur   : To apply median Bluring to remove noise.\n",
    "** gaussainBlur : To make image smoother and remove gaussain noise.\n",
    "** cannyEdge    : To detect edges of an image using Canny method.\n",
    "** applyKernel  : To choose kernel you want and apply it to an image.\n",
    "** gammaCor     : To control the lightness of the an image. \n",
    "\n",
    "Author : Zynab Smaan\n",
    "=====================================================================\n",
    "\n",
    "\"\"\""
   ]
  },
  {
   "cell_type": "code",
   "execution_count": 31,
   "metadata": {
    "collapsed": true
   },
   "outputs": [],
   "source": [
    "class editImage :\n",
    "    \n",
    "    def __init__(self, imgPath):\n",
    "        self.IMG = cv2.imread(imgPath)\n",
    "        self.IMG_GRAY = cv2.cvtColor(self.IMG, cv2.COLOR_BGR2GRAY)\n",
    "        self.IMG_RES_NAME = 'Image'\n",
    "        \n",
    "    def __imshow(self, res):\n",
    "        \n",
    "        \n",
    "        \"\"\"\n",
    "        res    : The output image of applying any methods\n",
    "        output : Two images side-by-side(the original one\n",
    "                  and the output one) \n",
    "        \"\"\"\n",
    "        \n",
    "        if len(res.shape) == 2:\n",
    "            res = cv2.cvtColor(res, cv2.COLOR_GRAY2BGR) #convert the image from being 2 channels to 3 channels.\n",
    "        twoImages = np.concatenate((self.IMG, res), axis=1) \n",
    "        cv2.imshow(self.IMG_RES_NAME, twoImages)\n",
    "        cv2.waitKey()\n",
    "        cv2.destroyAllWindows()\n",
    "    \n",
    "    def normHist(self):\n",
    "        \n",
    "        \"\"\"\n",
    "        To perform normal histogram equalization\n",
    "        output : enhanced image in lightness and some \n",
    "                 details appear.\n",
    "        \n",
    "        \"\"\"\n",
    "        equ = cv2.equalizeHist(self.IMG_GRAY)\n",
    "        self.__imshow(equ)\n",
    "        \n",
    "    def clahe(self, clip = 1 , size=(8,8)):\n",
    "        \"\"\"\n",
    "        To perform Contrast Limited Adaptive Histogram Equalization\n",
    "        size : is the size of the block of image you will apply \n",
    "               histogram equalization on it. \n",
    "        \"\"\"\n",
    "        clahe = cv2.createCLAHE(clipLimit = clip, tileGridSize=size)\n",
    "        imgClahe = clahe.apply(self.IMG_GRAY) \n",
    "        self.__imshow(imgClahe)\n",
    "        \n",
    "    def medianblur(self, size):\n",
    "        \"\"\"\n",
    "        To remove noise like sault and peper.\n",
    "        size   : is the size of box(7*7) you 'll\n",
    "                 apply medain bluring to it. \n",
    "        output:  new enhanced image.      \n",
    "        \"\"\"\n",
    "        blur = cv2.medianBlur(self.IMG, size)\n",
    "        self.__imshow(blur)\n",
    "        \n",
    "    def gaussainBlur(self, size=(5,5), sigma=1):\n",
    "        \n",
    "        \"\"\"\n",
    "        To perform gaussain bluring to an image \n",
    "        smooth it and remove gaussain noise.\n",
    "        size   : of the gaussain shape that will cover \n",
    "                 a specific area of an image(it should be \n",
    "                 odd and positive). \n",
    "        sigma  : determine the thikness of gaussain shape.\n",
    "        output : a new smoother image.\n",
    "        \"\"\"\n",
    "        blur = cv2.GaussianBlur(self.IMG, size, sigma)\n",
    "        self.__imshow(blur)\n",
    "        \n",
    "    def cannyEdge(self, minValue = 100, maxValue=200):\n",
    "        \n",
    "        \"\"\"\n",
    "        To detect edges using Canny methods.\n",
    "        minValue : (Threshold) if the intensity of \n",
    "                   a point is below it so it will not an edge.\n",
    "        maxValue : (Threshold) if the intensity of a point is above this value\n",
    "                   so it will be an edge.         \n",
    "        output   : a black and white image that detect edges.  \n",
    "        \"\"\"\n",
    "        edges = cv2.Canny(self.IMG_GRAY, minValue, maxValue)\n",
    "        self.__imshow(edges)\n",
    "        \n",
    "    def applyKernel(self, size=(3,3), depth=-1):\n",
    "        \n",
    "        \"\"\"\n",
    "        Choose kernel you want and apply it to an image\n",
    "        size  : of the kernel() default(3*3) \n",
    "        \n",
    "        depth : determine the depth of color you want\n",
    "                if 1 the depth of color is the same as\n",
    "                the original image.\n",
    "        \n",
    "        \"\"\"\n",
    "        kernel = np.ones(size,np.float32)/ (size[0] * size[1])\n",
    "        filter1 = cv2.filter2D(self.IMG, depth, kernel)\n",
    "        self.__imshow(filter1)\n",
    "        \n",
    "        \n",
    "    def gammaCor(self, gamma =1):\n",
    "        \"\"\"\n",
    "        Apply gamma correaltion to control brightness.\n",
    "        gamma  : default 1. If bigger than 1 the image\n",
    "                 becomes brighter else the image \n",
    "                 becomes darker.\n",
    "                \n",
    "        output : an new images its brightness depends\n",
    "                 on gamma value.\n",
    "        \"\"\"\n",
    "        invGamma = 1.0 / gamma\n",
    "        table = np.array([((i / 255.0) ** invGamma) * 255 for i in np.arange(0, 256)]).astype(\"uint8\")\n",
    "        res = cv2.LUT(self.IMG, table)\n",
    "        self.__imshow(res)"
   ]
  },
  {
   "cell_type": "code",
   "execution_count": 25,
   "metadata": {
    "collapsed": true
   },
   "outputs": [],
   "source": [
    "obj= editImage('kids.png')"
   ]
  },
  {
   "cell_type": "code",
   "execution_count": 19,
   "metadata": {
    "collapsed": true
   },
   "outputs": [],
   "source": [
    "obj.gaussainBlur()"
   ]
  },
  {
   "cell_type": "code",
   "execution_count": 20,
   "metadata": {},
   "outputs": [],
   "source": [
    "obj.normHist()"
   ]
  },
  {
   "cell_type": "code",
   "execution_count": 21,
   "metadata": {},
   "outputs": [],
   "source": [
    "obj.clahe()"
   ]
  },
  {
   "cell_type": "code",
   "execution_count": 22,
   "metadata": {
    "collapsed": true
   },
   "outputs": [],
   "source": [
    "obj.cannyEdge()"
   ]
  },
  {
   "cell_type": "code",
   "execution_count": 23,
   "metadata": {
    "collapsed": true
   },
   "outputs": [],
   "source": [
    "obj.applyKernel()"
   ]
  },
  {
   "cell_type": "code",
   "execution_count": 28,
   "metadata": {},
   "outputs": [],
   "source": [
    "obj.gammaCor(1.5)"
   ]
  },
  {
   "cell_type": "code",
   "execution_count": null,
   "metadata": {
    "collapsed": true
   },
   "outputs": [],
   "source": []
  }
 ],
 "metadata": {
  "kernelspec": {
   "display_name": "Python 3",
   "language": "python",
   "name": "python3"
  },
  "language_info": {
   "codemirror_mode": {
    "name": "ipython",
    "version": 3
   },
   "file_extension": ".py",
   "mimetype": "text/x-python",
   "name": "python",
   "nbconvert_exporter": "python",
   "pygments_lexer": "ipython3",
   "version": "3.5.4"
  }
 },
 "nbformat": 4,
 "nbformat_minor": 2
}
